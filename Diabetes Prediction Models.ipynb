{
  "cells": [
    {
      "cell_type": "markdown",
      "metadata": {
        "id": "FH0cplYzoFJc"
      },
      "source": [
        "### Part A"
      ]
    },
    {
      "cell_type": "code",
      "execution_count": null,
      "metadata": {
        "id": "aHb-DsQWoFJd"
      },
      "outputs": [],
      "source": [
        "# HERE YOU WILL WRITE CODE TO TEST A NUMBER OF PREDICTORS\n",
        "# AND FINALLY CHOOSE AND TRAIN THE PREDICTOR THAT YOU WILL BE USING FOR PART B"
      ]
    },
    {
      "cell_type": "code",
      "source": [
        "import pandas as pd\n",
        "from sklearn.model_selection import train_test_split\n",
        "from sklearn.pipeline import Pipeline\n",
        "from sklearn.impute import SimpleImputer\n",
        "from sklearn.model_selection import cross_val_score\n",
        "from sklearn.model_selection import StratifiedKFold\n",
        "from sklearn.metrics import classification_report\n",
        "from sklearn.metrics import confusion_matrix\n",
        "from sklearn.metrics import accuracy_score\n",
        "from sklearn.metrics import precision_score\n",
        "from sklearn.metrics import f1_score\n",
        "from sklearn.metrics import recall_score\n",
        "from sklearn.tree import DecisionTreeClassifier\n",
        "from sklearn.impute import KNNImputer\n",
        "from sklearn.svm import SVC\n",
        "from sklearn.naive_bayes import GaussianNB\n",
        "from sklearn.linear_model import LogisticRegression\n",
        "from sklearn.neighbors import KNeighborsClassifier\n",
        "import matplotlib.pyplot as plt\n",
        "import numpy as np\n",
        "\n"
      ],
      "metadata": {
        "id": "i1JexoijpK1W"
      },
      "execution_count": 25,
      "outputs": []
    },
    {
      "cell_type": "code",
      "source": [
        "# Mount data file from google drive to colab workspace\n",
        "from google.colab import drive \n",
        "drive.mount('/content/drive')\n",
        "path = '/content/drive/MyDrive/machine_learning/CE802_P2_Data.csv'"
      ],
      "metadata": {
        "colab": {
          "base_uri": "https://localhost:8080/"
        },
        "id": "0YILft8cpxTx",
        "outputId": "688fe5d1-bc52-4a90-f94c-06fbf2e2ce2e"
      },
      "execution_count": 2,
      "outputs": [
        {
          "output_type": "stream",
          "name": "stdout",
          "text": [
            "Mounted at /content/drive\n"
          ]
        }
      ]
    },
    {
      "cell_type": "code",
      "source": [
        "# Read csv file\n",
        "df = pd.read_csv(path) "
      ],
      "metadata": {
        "id": "X0hwymSrrDUP"
      },
      "execution_count": 3,
      "outputs": []
    },
    {
      "cell_type": "code",
      "source": [
        "# Split training and test, while dropping the Class Column\n",
        "X = df.drop('Class', axis=1)\n",
        "y = df['Class']\n",
        "\n",
        "X_train, X_test, y_train, y_test = train_test_split(X, y, test_size=0.2, random_state=42)"
      ],
      "metadata": {
        "id": "7W-Ym7TfqhaB"
      },
      "execution_count": 15,
      "outputs": []
    },
    {
      "cell_type": "code",
      "source": [
        "# Replace missing data with the KNNImputer class\n",
        "imputer = KNNImputer(n_neighbors=5)\n",
        "\n",
        "# Fit the imputer to the data and transform the data\n",
        "X_imputed = imputer.fit_transform(X)\n",
        "\n",
        "# Create a new DataFrame with the imputed values\n",
        "X_imputed_df = pd.DataFrame(X_imputed, columns=X.columns)\n",
        "\n",
        "# Check if there are any missing values remaining in the dataset\n",
        "print(X_imputed_df.isnull().sum())\n",
        "\n",
        "# Replace the F20 column in the original DataFrame with the imputed values\n",
        "df['F20'] = X_imputed_df['F20']"
      ],
      "metadata": {
        "id": "V1YOOCP-8WzW",
        "colab": {
          "base_uri": "https://localhost:8080/"
        },
        "outputId": "fcbb2b64-16ee-47d2-e2ba-a79dd0200877"
      },
      "execution_count": 14,
      "outputs": [
        {
          "output_type": "stream",
          "name": "stdout",
          "text": [
            "F1     0\n",
            "F2     0\n",
            "F3     0\n",
            "F4     0\n",
            "F5     0\n",
            "F6     0\n",
            "F7     0\n",
            "F8     0\n",
            "F9     0\n",
            "F10    0\n",
            "F11    0\n",
            "F12    0\n",
            "F13    0\n",
            "F14    0\n",
            "F15    0\n",
            "F16    0\n",
            "F17    0\n",
            "F18    0\n",
            "F19    0\n",
            "F20    0\n",
            "dtype: int64\n"
          ]
        }
      ]
    },
    {
      "cell_type": "code",
      "source": [
        "# Check the number for missing values\n",
        "missing_values = df.isnull().sum() \n",
        "print (missing_values)"
      ],
      "metadata": {
        "id": "7c1_2-LaWgzX"
      },
      "execution_count": null,
      "outputs": []
    },
    {
      "cell_type": "code",
      "source": [
        "df.info()"
      ],
      "metadata": {
        "id": "q3lSGzXk2NYA"
      },
      "execution_count": null,
      "outputs": []
    },
    {
      "cell_type": "code",
      "source": [
        "# Check if the missing data have been filled in\n",
        "print(df.head(10))"
      ],
      "metadata": {
        "id": "-3jMveL6vvq0"
      },
      "execution_count": null,
      "outputs": []
    },
    {
      "cell_type": "code",
      "source": [
        "# Print the shapes of the train and test sets\n",
        "print(\"Shape of X_train:\", X_train.shape)\n",
        "print(\"Shape of y_train:\", y_train.shape)\n",
        "print(\"Shape of X_test:\", X_test.shape)\n",
        "print(\"Shape of y_test:\", y_test.shape)"
      ],
      "metadata": {
        "id": "x4ZkAmDyrjo_"
      },
      "execution_count": null,
      "outputs": []
    },
    {
      "cell_type": "code",
      "source": [
        "# Create a decision tree classifier with default hyperparameters\n",
        "dt_classifier = DecisionTreeClassifier()\n",
        "\n",
        "# Fit the decision tree classifier to the training data\n",
        "dt_classifier.fit(X_train, y_train)\n",
        "\n",
        "# Make predictions on the test data\n",
        "y_pred = dt_classifier.predict(X_test)\n",
        "\n",
        "# Evaluate the performance of the decision tree classifier\n",
        "accuracy = accuracy_score(y_test, y_pred)\n",
        "precision = precision_score(y_test, y_pred)\n",
        "recall = recall_score(y_test, y_pred)\n",
        "f1 = f1_score(y_test, y_pred)\n",
        "\n",
        "print('Accuracy:', accuracy)\n",
        "print('Precision:', precision)\n",
        "print('Recall:', recall)\n",
        "print('F1 score:', f1)"
      ],
      "metadata": {
        "id": "-I9mi1QNuQxX"
      },
      "execution_count": null,
      "outputs": []
    },
    {
      "cell_type": "code",
      "source": [
        "# Create a SVC\n",
        "svc = SVC()\n",
        "\n",
        "# Fit the model to the training data\n",
        "svc.fit(X_train, y_train)\n",
        "\n",
        "# Make predictions on the test set\n",
        "y_pred = svc.predict(X_test)\n",
        "\n",
        "accuracy = accuracy_score(y_test, y_pred)\n",
        "precision = precision_score(y_test, y_pred)\n",
        "recall = recall_score(y_test, y_pred)\n",
        "f1 = f1_score(y_test, y_pred)\n",
        "\n",
        "print('Accuracy:', accuracy)\n",
        "print('Precision:', precision)\n",
        "print('Recall:', recall)\n",
        "print('F1 score:', f1)"
      ],
      "metadata": {
        "id": "qn5dzr-WEFBa"
      },
      "execution_count": null,
      "outputs": []
    },
    {
      "cell_type": "code",
      "source": [
        "# Create a logistic regression model\n",
        "model = LogisticRegression(max_iter=1000)\n",
        "\n",
        "# Train the model on the training data\n",
        "model.fit(X_train, y_train)\n",
        "\n",
        "# Make predictions on the test data\n",
        "y_pred = model.predict(X_test)\n",
        "\n",
        "# Evaluate the model's accuracy on the test data\n",
        "accuracy = accuracy_score(y_test, y_pred)\n",
        "precision = precision_score(y_test, y_pred)\n",
        "recall = recall_score(y_test, y_pred)\n",
        "f1 = f1_score(y_test, y_pred)\n",
        "\n",
        "print('Accuracy:', accuracy)\n",
        "print('Precision:', precision)\n",
        "print('Recall:', recall)\n",
        "print('F1 score:', f1)"
      ],
      "metadata": {
        "id": "HmpHJwKVYbPw"
      },
      "execution_count": null,
      "outputs": []
    },
    {
      "cell_type": "code",
      "source": [
        "# Create a KNN model\n",
        "model = KNeighborsClassifier(n_neighbors=10)\n",
        "\n",
        "# Train the model on the training data\n",
        "model.fit(X_train, y_train)\n",
        "\n",
        "# Make predictions on the test data\n",
        "y_pred = model.predict(X_test)\n",
        "\n",
        "accuracy = accuracy_score(y_test, y_pred)\n",
        "precision = precision_score(y_test, y_pred)\n",
        "recall = recall_score(y_test, y_pred)\n",
        "f1 = f1_score(y_test, y_pred)\n",
        "\n",
        "print('Accuracy:', accuracy)\n",
        "print('Precision:', precision)\n",
        "print('Recall:', recall)\n",
        "print('F1 score:', f1)"
      ],
      "metadata": {
        "id": "Y7iSmcG2aKjC"
      },
      "execution_count": null,
      "outputs": []
    },
    {
      "cell_type": "code",
      "source": [
        "# Create a Gaussian Naive Bayes model\n",
        "model = GaussianNB()\n",
        "\n",
        "# Train the model on the training data\n",
        "model.fit(X_train, y_train)\n",
        "\n",
        "# Make predictions on the test data\n",
        "y_pred = model.predict(X_test)\n",
        "\n",
        "accuracy = accuracy_score(y_test, y_pred)\n",
        "precision = precision_score(y_test, y_pred)\n",
        "recall = recall_score(y_test, y_pred)\n",
        "f1 = f1_score(y_test, y_pred)\n",
        "\n",
        "print('Accuracy:', accuracy)\n",
        "print('Precision:', precision)\n",
        "print('Recall:', recall)\n",
        "print('F1 score:', f1)"
      ],
      "metadata": {
        "id": "70hO-EeTXktD"
      },
      "execution_count": null,
      "outputs": []
    },
    {
      "cell_type": "code",
      "source": [
        "# Plot chat to visualize the results\n",
        "\n",
        "# Define the data\n",
        "models = ['Decision Tree', 'SVC', 'Logistic Regression', 'KNN', 'Gaussian Naive Bayes']\n",
        "accuracy = [0.835, 0.645, 0.72, 0.665, 0.55]\n",
        "precision = [0.8478260869565217, 0.5902777777777778, 0.7157894736842105, 0.6704545454545454, 0.52]\n",
        "recall = [0.8041237113402062, 0.8762886597938144, 0.7010309278350515, 0.6082474226804123, 0.9381443298969072]\n",
        "f1_score = [0.8253968253968254, 0.7053941908713695, 0.7083333333333334, 0.6378378378378377, 0.6691176470588236]\n",
        "\n",
        "# Set the width of the bars\n",
        "barWidth = 0.2\n",
        "\n",
        "# Set the x-axis values\n",
        "r1 = np.arange(len(models))\n",
        "r2 = [x + barWidth for x in r1]\n",
        "r3 = [x + barWidth for x in r2]\n",
        "r4 = [x + barWidth for x in r3]\n",
        "\n",
        "# Create the bars\n",
        "plt.bar(r1, accuracy, color='blue', width=barWidth, label='Accuracy')\n",
        "plt.bar(r2, precision, color='red', width=barWidth, label='Precision')\n",
        "plt.bar(r3, recall, color='green', width=barWidth, label='Recall')\n",
        "plt.bar(r4, f1_score, color='orange', width=barWidth, label='F1 Score')\n",
        "\n",
        "# Set the x-axis labels\n",
        "plt.xticks([r + barWidth for r in range(len(models))], models, rotation=45, ha='right')\n",
        "\n",
        "# Set the y-axis label and title\n",
        "plt.ylabel('Scores')\n",
        "plt.title('Evaluation Metrics of Machine Learning Models')\n",
        "\n",
        "# Add a legend\n",
        "plt.legend()\n",
        "\n",
        "# Display the histogram\n",
        "plt.show()\n"
      ],
      "metadata": {
        "id": "McmWhvwrw-jj"
      },
      "execution_count": null,
      "outputs": []
    },
    {
      "cell_type": "markdown",
      "metadata": {
        "id": "eAYlfP3eoFJe"
      },
      "source": [
        "### Part B"
      ]
    },
    {
      "cell_type": "code",
      "source": [
        "# HERE YOU WILL USE THIS TEMPLATE TO SAVE THE PREDICTIONS ON THE TEST SET\n",
        "\n",
        "\n",
        "# Load the test data\n",
        "test_file_path = '/content/drive/MyDrive/machine_learning/CE802_P2_Test.csv'\n",
        "test_df = pd.read_csv(test_file_path)\n",
        "\n",
        "# Make sure you work on a copy\n",
        "test_data = test_df.iloc[:,:-1].copy()\n",
        "\n",
        "# Replace missing data with the KNNImputer class\n",
        "imputer = KNNImputer(n_neighbors=5)\n",
        "test_df[['F20']] = imputer.fit_transform(test_df[['F20']])\n",
        "\n",
        "predicted = dt_classifier.predict(test_df.iloc[:,:-1])\n",
        "\n",
        "# Replace the last (empty) column with your prediction\n",
        "test_df.iloc[:,-1] = predicted\n",
        "\n",
        "# Save to the destination file\n",
        "test_df.to_csv('/content/drive/MyDrive/machine_learning/CE802_P2_Test.csv', index=False, float_format='%.8g')\n",
        "\n",
        "# IMPORTANT!! Make sure only the last column has changed\n",
        "assert pd.read_csv('/content/drive/MyDrive/machine_learning/CE802_P2_Test.csv').iloc[:,:-1].equals(pd.read_csv('/content/drive/MyDrive/machine_learning/CE802_P2_Test.csv').iloc[:,:-1])"
      ],
      "metadata": {
        "id": "izkouZN4r3pa"
      },
      "execution_count": 27,
      "outputs": []
    }
  ],
  "metadata": {
    "kernelspec": {
      "display_name": "Python 3",
      "language": "python",
      "name": "python3"
    },
    "language_info": {
      "codemirror_mode": {
        "name": "ipython",
        "version": 3
      },
      "file_extension": ".py",
      "mimetype": "text/x-python",
      "name": "python",
      "nbconvert_exporter": "python",
      "pygments_lexer": "ipython3",
      "version": "3.7.9"
    },
    "colab": {
      "provenance": []
    }
  },
  "nbformat": 4,
  "nbformat_minor": 0
}